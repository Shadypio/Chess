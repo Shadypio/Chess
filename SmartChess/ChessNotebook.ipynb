{
 "cells": [
  {
   "cell_type": "code",
   "execution_count": 9,
   "metadata": {
    "collapsed": true,
    "pycharm": {
     "name": "#%%\n"
    }
   },
   "outputs": [
    {
     "ename": "IndexError",
     "evalue": "list assignment index out of range",
     "output_type": "error",
     "traceback": [
      "\u001B[1;31m---------------------------------------------------------------------------\u001B[0m",
      "\u001B[1;31mIndexError\u001B[0m                                Traceback (most recent call last)",
      "Input \u001B[1;32mIn [9]\u001B[0m, in \u001B[0;36m<cell line: 7>\u001B[1;34m()\u001B[0m\n\u001B[0;32m      5\u001B[0m games \u001B[38;5;241m=\u001B[39m []\n\u001B[0;32m      6\u001B[0m boards \u001B[38;5;241m=\u001B[39m []\n\u001B[1;32m----> 7\u001B[0m games[\u001B[38;5;241m0\u001B[39m] \u001B[38;5;241m=\u001B[39m chess\u001B[38;5;241m.\u001B[39mpgn\u001B[38;5;241m.\u001B[39mread_game(pgn)\n\u001B[0;32m      9\u001B[0m \u001B[38;5;28;01mfor\u001B[39;00m index \u001B[38;5;129;01min\u001B[39;00m \u001B[38;5;28mlen\u001B[39m(games):\n\u001B[0;32m     10\u001B[0m     boards[index] \u001B[38;5;241m=\u001B[39m games[index]\u001B[38;5;241m.\u001B[39mboard\n",
      "\u001B[1;31mIndexError\u001B[0m: list assignment index out of range"
     ]
    }
   ],
   "source": [
    "import chess.pgn\n",
    "import chess.svg\n",
    "\n",
    "pgn = open(\"Matches/various.pgn\")\n",
    "games = []\n",
    "boards = []\n",
    "for index in range(0, 1):\n",
    "    games.append(chess.pgn.read_game(pgn))\n",
    "\n",
    "for index in len(games):\n",
    "    boards[index] = games[index].board\n",
    "\n",
    "#for move in games[index].mainline_moves():\n",
    " #   boards[index].push(move)\n",
    "\n",
    "for index in len(boards):\n",
    "    boards[index]"
   ]
  }
 ],
 "metadata": {
  "kernelspec": {
   "display_name": "Python 3",
   "language": "python",
   "name": "python3"
  },
  "language_info": {
   "codemirror_mode": {
    "name": "ipython",
    "version": 2
   },
   "file_extension": ".py",
   "mimetype": "text/x-python",
   "name": "python",
   "nbconvert_exporter": "python",
   "pygments_lexer": "ipython2",
   "version": "2.7.6"
  }
 },
 "nbformat": 4,
 "nbformat_minor": 0
}